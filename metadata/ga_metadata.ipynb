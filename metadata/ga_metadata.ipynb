{
 "cells": [
  {
   "cell_type": "code",
   "execution_count": 22,
   "metadata": {
    "collapsed": true
   },
   "outputs": [],
   "source": [
    "options(repr.plot.width=3, repr.plot.height=3)"
   ]
  },
  {
   "cell_type": "code",
   "execution_count": 37,
   "metadata": {
    "collapsed": false
   },
   "outputs": [
    {
     "name": "stdout",
     "output_type": "stream",
     "text": [
      "'data.frame':\t549 obs. of  16 variables:\n",
      " $ id                                : chr  \"ga:userType\" \"ga:visitorType\" \"ga:sessionCount\" \"ga:visitCount\" ...\n",
      " $ kind                              : chr  \"analytics#column\" \"analytics#column\" \"analytics#column\" \"analytics#column\" ...\n",
      " $ attributes.type                   : Factor w/ 2 levels \"DIMENSION\",\"METRIC\": 1 1 1 1 1 1 1 2 2 2 ...\n",
      " $ attributes.dataType               : chr  \"STRING\" \"STRING\" \"STRING\" \"STRING\" ...\n",
      " $ attributes.group                  : Factor w/ 33 levels \"Ad Exchange\",..: 32 32 32 32 32 32 32 32 32 32 ...\n",
      " $ attributes.status                 : Factor w/ 2 levels \"DEPRECATED\",\"PUBLIC\": 2 1 2 1 2 1 2 2 1 2 ...\n",
      " $ attributes.uiName                 : chr  \"User Type\" \"User Type\" \"Count of Sessions\" \"Count of Sessions\" ...\n",
      " $ attributes.description            : chr  \"A boolean, either New Visitor or Returning Visitor, indicating if the users are new or returning.\" \"A boolean, either New Visitor or Returning Visitor, indicating if the users are new or returning.\" \"The session index for a user. Each session from a unique user will get its own incremental index starting from 1 for the first \"| __truncated__ \"The session index for a user. Each session from a unique user will get its own incremental index starting from 1 for the first \"| __truncated__ ...\n",
      " $ attributes.allowedInSegments      : Factor w/ 2 levels \"false\",\"true\": 2 2 2 2 2 2 2 NA NA 2 ...\n",
      " $ attributes.addedInApiVersion      : Factor w/ 2 levels \"3\",\"4\": 1 1 1 1 1 1 1 1 1 1 ...\n",
      " $ attributes.replacedBy             : chr  NA \"ga:userType\" NA \"ga:sessionCount\" ...\n",
      " $ attributes.calculation            : chr  NA NA NA NA ...\n",
      " $ attributes.minTemplateIndex       : chr  NA NA NA NA ...\n",
      " $ attributes.maxTemplateIndex       : chr  NA NA NA NA ...\n",
      " $ attributes.premiumMinTemplateIndex: chr  NA NA NA NA ...\n",
      " $ attributes.premiumMaxTemplateIndex: chr  NA NA NA NA ...\n"
     ]
    }
   ],
   "source": [
    "library(jsonlite)\n",
    "metadata_api_url <- \"https://www.googleapis.com/analytics/v3/metadata/ga/columns?pp=1\"\n",
    "metadata_api_response <- fromJSON(metadata_api_url, flatten = T)\n",
    "\n",
    "df <- as.data.frame(metadata_api_response$items)\n",
    "\n",
    "vars <- c(\"attributes.type\", \"attributes.group\", \"attributes.status\", \"attributes.allowedInSegments\", \"attributes.addedInApiVersion\")\n",
    "\n",
    "df[vars] <- lapply(df[vars], as.factor)\n",
    "str(df)"
   ]
  },
  {
   "cell_type": "code",
   "execution_count": 42,
   "metadata": {
    "collapsed": false
   },
   "outputs": [
    {
     "data": {
      "text/html": [
       "<ol class=list-inline>\n",
       "\t<li>'Ad Exchange'</li>\n",
       "\t<li>'Adsense'</li>\n",
       "\t<li>'Adwords'</li>\n",
       "\t<li>'App Tracking'</li>\n",
       "\t<li>'Audience'</li>\n",
       "\t<li>'Channel Grouping'</li>\n",
       "\t<li>'Content Experiments'</li>\n",
       "\t<li>'Content Grouping'</li>\n",
       "\t<li>'Custom Variables or Columns'</li>\n",
       "\t<li>'DoubleClick Bid Manager'</li>\n",
       "\t<li>'DoubleClick Campaign Manager'</li>\n",
       "\t<li>'DoubleClick for Publishers'</li>\n",
       "\t<li>'DoubleClick for Publishers Backfill'</li>\n",
       "\t<li>'DoubleClick Search'</li>\n",
       "\t<li>'Ecommerce'</li>\n",
       "\t<li>'Event Tracking'</li>\n",
       "\t<li>'Exceptions'</li>\n",
       "\t<li>'Geo Network'</li>\n",
       "\t<li>'Goal Conversions'</li>\n",
       "\t<li>'Internal Search'</li>\n",
       "\t<li>'Lifetime Value and Cohorts'</li>\n",
       "\t<li>'Page Tracking'</li>\n",
       "\t<li>'Platform or Device'</li>\n",
       "\t<li>'Related Products'</li>\n",
       "\t<li>'Session'</li>\n",
       "\t<li>'Site Speed'</li>\n",
       "\t<li>'Social Activities'</li>\n",
       "\t<li>'Social Interactions'</li>\n",
       "\t<li>'System'</li>\n",
       "\t<li>'Time'</li>\n",
       "\t<li>'Traffic Sources'</li>\n",
       "\t<li>'User'</li>\n",
       "\t<li>'User Timings'</li>\n",
       "</ol>\n"
      ],
      "text/latex": [
       "\\begin{enumerate*}\n",
       "\\item 'Ad Exchange'\n",
       "\\item 'Adsense'\n",
       "\\item 'Adwords'\n",
       "\\item 'App Tracking'\n",
       "\\item 'Audience'\n",
       "\\item 'Channel Grouping'\n",
       "\\item 'Content Experiments'\n",
       "\\item 'Content Grouping'\n",
       "\\item 'Custom Variables or Columns'\n",
       "\\item 'DoubleClick Bid Manager'\n",
       "\\item 'DoubleClick Campaign Manager'\n",
       "\\item 'DoubleClick for Publishers'\n",
       "\\item 'DoubleClick for Publishers Backfill'\n",
       "\\item 'DoubleClick Search'\n",
       "\\item 'Ecommerce'\n",
       "\\item 'Event Tracking'\n",
       "\\item 'Exceptions'\n",
       "\\item 'Geo Network'\n",
       "\\item 'Goal Conversions'\n",
       "\\item 'Internal Search'\n",
       "\\item 'Lifetime Value and Cohorts'\n",
       "\\item 'Page Tracking'\n",
       "\\item 'Platform or Device'\n",
       "\\item 'Related Products'\n",
       "\\item 'Session'\n",
       "\\item 'Site Speed'\n",
       "\\item 'Social Activities'\n",
       "\\item 'Social Interactions'\n",
       "\\item 'System'\n",
       "\\item 'Time'\n",
       "\\item 'Traffic Sources'\n",
       "\\item 'User'\n",
       "\\item 'User Timings'\n",
       "\\end{enumerate*}\n"
      ],
      "text/markdown": [
       "1. 'Ad Exchange'\n",
       "2. 'Adsense'\n",
       "3. 'Adwords'\n",
       "4. 'App Tracking'\n",
       "5. 'Audience'\n",
       "6. 'Channel Grouping'\n",
       "7. 'Content Experiments'\n",
       "8. 'Content Grouping'\n",
       "9. 'Custom Variables or Columns'\n",
       "10. 'DoubleClick Bid Manager'\n",
       "11. 'DoubleClick Campaign Manager'\n",
       "12. 'DoubleClick for Publishers'\n",
       "13. 'DoubleClick for Publishers Backfill'\n",
       "14. 'DoubleClick Search'\n",
       "15. 'Ecommerce'\n",
       "16. 'Event Tracking'\n",
       "17. 'Exceptions'\n",
       "18. 'Geo Network'\n",
       "19. 'Goal Conversions'\n",
       "20. 'Internal Search'\n",
       "21. 'Lifetime Value and Cohorts'\n",
       "22. 'Page Tracking'\n",
       "23. 'Platform or Device'\n",
       "24. 'Related Products'\n",
       "25. 'Session'\n",
       "26. 'Site Speed'\n",
       "27. 'Social Activities'\n",
       "28. 'Social Interactions'\n",
       "29. 'System'\n",
       "30. 'Time'\n",
       "31. 'Traffic Sources'\n",
       "32. 'User'\n",
       "33. 'User Timings'\n",
       "\n",
       "\n"
      ],
      "text/plain": [
       " [1] \"Ad Exchange\"                         \"Adsense\"                            \n",
       " [3] \"Adwords\"                             \"App Tracking\"                       \n",
       " [5] \"Audience\"                            \"Channel Grouping\"                   \n",
       " [7] \"Content Experiments\"                 \"Content Grouping\"                   \n",
       " [9] \"Custom Variables or Columns\"         \"DoubleClick Bid Manager\"            \n",
       "[11] \"DoubleClick Campaign Manager\"        \"DoubleClick for Publishers\"         \n",
       "[13] \"DoubleClick for Publishers Backfill\" \"DoubleClick Search\"                 \n",
       "[15] \"Ecommerce\"                           \"Event Tracking\"                     \n",
       "[17] \"Exceptions\"                          \"Geo Network\"                        \n",
       "[19] \"Goal Conversions\"                    \"Internal Search\"                    \n",
       "[21] \"Lifetime Value and Cohorts\"          \"Page Tracking\"                      \n",
       "[23] \"Platform or Device\"                  \"Related Products\"                   \n",
       "[25] \"Session\"                             \"Site Speed\"                         \n",
       "[27] \"Social Activities\"                   \"Social Interactions\"                \n",
       "[29] \"System\"                              \"Time\"                               \n",
       "[31] \"Traffic Sources\"                     \"User\"                               \n",
       "[33] \"User Timings\"                       "
      ]
     },
     "metadata": {},
     "output_type": "display_data"
    }
   ],
   "source": [
    "levels(df$attributes.group)"
   ]
  },
  {
   "cell_type": "code",
   "execution_count": 38,
   "metadata": {
    "collapsed": false
   },
   "outputs": [
    {
     "data": {
      "text/html": [
       "<table>\n",
       "<thead><tr><th scope=col>id</th><th scope=col>attributes.uiName</th><th scope=col>attributes.type</th><th scope=col>attributes.group</th><th scope=col>attributes.status</th><th scope=col>attributes.allowedInSegments</th><th scope=col>attributes.addedInApiVersion</th></tr></thead>\n",
       "<tbody>\n",
       "\t<tr><td>ga:userType            </td><td>User Type              </td><td>DIMENSION              </td><td>User                   </td><td>PUBLIC                 </td><td>true                   </td><td>3                      </td></tr>\n",
       "\t<tr><td>ga:visitorType         </td><td>User Type              </td><td>DIMENSION              </td><td>User                   </td><td>DEPRECATED             </td><td>true                   </td><td>3                      </td></tr>\n",
       "\t<tr><td>ga:sessionCount        </td><td>Count of Sessions      </td><td>DIMENSION              </td><td>User                   </td><td>PUBLIC                 </td><td>true                   </td><td>3                      </td></tr>\n",
       "\t<tr><td>ga:visitCount          </td><td>Count of Sessions      </td><td>DIMENSION              </td><td>User                   </td><td>DEPRECATED             </td><td>true                   </td><td>3                      </td></tr>\n",
       "\t<tr><td>ga:daysSinceLastSession</td><td>Days Since Last Session</td><td>DIMENSION              </td><td>User                   </td><td>PUBLIC                 </td><td>true                   </td><td>3                      </td></tr>\n",
       "</tbody>\n",
       "</table>\n"
      ],
      "text/latex": [
       "\\begin{tabular}{r|lllllll}\n",
       " id & attributes.uiName & attributes.type & attributes.group & attributes.status & attributes.allowedInSegments & attributes.addedInApiVersion\\\\\n",
       "\\hline\n",
       "\t ga:userType             & User Type               & DIMENSION               & User                    & PUBLIC                  & true                    & 3                      \\\\\n",
       "\t ga:visitorType          & User Type               & DIMENSION               & User                    & DEPRECATED              & true                    & 3                      \\\\\n",
       "\t ga:sessionCount         & Count of Sessions       & DIMENSION               & User                    & PUBLIC                  & true                    & 3                      \\\\\n",
       "\t ga:visitCount           & Count of Sessions       & DIMENSION               & User                    & DEPRECATED              & true                    & 3                      \\\\\n",
       "\t ga:daysSinceLastSession & Days Since Last Session & DIMENSION               & User                    & PUBLIC                  & true                    & 3                      \\\\\n",
       "\\end{tabular}\n"
      ],
      "text/plain": [
       "  id                      attributes.uiName       attributes.type\n",
       "1 ga:userType             User Type               DIMENSION      \n",
       "2 ga:visitorType          User Type               DIMENSION      \n",
       "3 ga:sessionCount         Count of Sessions       DIMENSION      \n",
       "4 ga:visitCount           Count of Sessions       DIMENSION      \n",
       "5 ga:daysSinceLastSession Days Since Last Session DIMENSION      \n",
       "  attributes.group attributes.status attributes.allowedInSegments\n",
       "1 User             PUBLIC            true                        \n",
       "2 User             DEPRECATED        true                        \n",
       "3 User             PUBLIC            true                        \n",
       "4 User             DEPRECATED        true                        \n",
       "5 User             PUBLIC            true                        \n",
       "  attributes.addedInApiVersion\n",
       "1 3                           \n",
       "2 3                           \n",
       "3 3                           \n",
       "4 3                           \n",
       "5 3                           "
      ]
     },
     "metadata": {},
     "output_type": "display_data"
    }
   ],
   "source": [
    "# Here I only keep relevant variables provided by the metadata api.\n",
    "vars <- c(\"id\", \"attributes.uiName\", vars)\n",
    "df <- df[vars]\n",
    "head(df,5)"
   ]
  },
  {
   "cell_type": "code",
   "execution_count": 39,
   "metadata": {
    "collapsed": false
   },
   "outputs": [
    {
     "data": {
      "text/plain": [
       "\n",
       "DEPRECATED     PUBLIC \n",
       "        48        501 "
      ]
     },
     "metadata": {},
     "output_type": "display_data"
    }
   ],
   "source": [
    "table(df$attributes.status)"
   ]
  },
  {
   "cell_type": "code",
   "execution_count": 46,
   "metadata": {
    "collapsed": false
   },
   "outputs": [
    {
     "data": {
      "image/png": "[encoded data removed]",
      "text/plain": [
       "Plot with title “Deprecated Vs Public \n",
       " (Dimensions & Metrics)”"
      ]
     },
     "metadata": {},
     "output_type": "display_data"
    }
   ],
   "source": [
    "options(repr.plot.width=8, repr.plot.height=3)\n",
    "par(mfrow=c(1,2))\n",
    "barplot(table(df$attributes.status))\n",
    "barplot(table(df$attributes.status), main=\"Deprecated Vs Public \\n (Dimensions & Metrics)\", sub = \"Google Analytics Dimensions & Metrics\",  col=c(\"#F58D00\",\"#FFCE1C\"), cex.main=.8, cex.sub=.8, cex.names =.7, border = \"white\",  ylim=c(0,1.2*max(unlist(table(df$attributes.status)))))"
   ]
  },
  {
   "cell_type": "code",
   "execution_count": 41,
   "metadata": {
    "collapsed": false
   },
   "outputs": [
    {
     "data": {
      "image/png": "[encoded data removed]",
      "text/plain": [
       "Plot with title “Deprecated Vs Public \n",
       " (Dimensions & Metrics)”"
      ]
     },
     "metadata": {},
     "output_type": "display_data"
    }
   ],
   "source": [
    "barplot(table(df$attributes.status), main=\"Deprecated Vs Public \\n (Dimensions & Metrics)\", sub = \"Google Analytics Dimensions & Metrics\",  col=c(\"#F58D00\",\"#FFCE1C\"), cex.main=.8, cex.sub=.8, cex.names =.7, border = \"white\",  ylim=c(0,1.2*max(unlist(table(df$attributes.status)))))"
   ]
  },
  {
   "cell_type": "code",
   "execution_count": null,
   "metadata": {
    "collapsed": true
   },
   "outputs": [],
   "source": []
  }
 ],
 "metadata": {
  "anaconda-cloud": {},
  "kernelspec": {
   "display_name": "R",
   "language": "R",
   "name": "ir"
  },
  "language_info": {
   "codemirror_mode": "r",
   "file_extension": ".r",
   "mimetype": "text/x-r-source",
   "name": "R",
   "pygments_lexer": "r",
   "version": "3.2.4"
  }
 },
 "nbformat": 4,
 "nbformat_minor": 0
}
